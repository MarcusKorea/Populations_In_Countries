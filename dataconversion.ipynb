{
 "cells": [
  {
   "cell_type": "code",
   "execution_count": 5,
   "metadata": {},
   "outputs": [],
   "source": [
    "# install geopandas package\n",
    "pip install geopandas"
   ]
  },
  {
   "cell_type": "code",
   "execution_count": 6,
   "metadata": {},
   "outputs": [],
   "source": [
    "# import packages\n",
    "import pandas as pd\n",
    "import geopandas as gpd"
   ]
  },
  {
   "cell_type": "code",
   "execution_count": 7,
   "metadata": {},
   "outputs": [],
   "source": [
    "# read in csv file\n",
    "path = \"Data/PopulationByAgeSex.csv\"\n",
    "populations = pd.read_csv(path)"
   ]
  },
  {
   "cell_type": "code",
   "execution_count": 8,
   "metadata": {},
   "outputs": [
    {
     "data": {
      "text/html": [
       "<div>\n",
       "<style scoped>\n",
       "    .dataframe tbody tr th:only-of-type {\n",
       "        vertical-align: middle;\n",
       "    }\n",
       "\n",
       "    .dataframe tbody tr th {\n",
       "        vertical-align: top;\n",
       "    }\n",
       "\n",
       "    .dataframe thead th {\n",
       "        text-align: right;\n",
       "    }\n",
       "</style>\n",
       "<table border=\"1\" class=\"dataframe\">\n",
       "  <thead>\n",
       "    <tr style=\"text-align: right;\">\n",
       "      <th></th>\n",
       "      <th>Id</th>\n",
       "      <th>LocID</th>\n",
       "      <th>Location</th>\n",
       "      <th>Time</th>\n",
       "      <th>PopMale_0_4</th>\n",
       "      <th>PopFemale_0_4</th>\n",
       "      <th>PopTotal_0_4</th>\n",
       "      <th>PopMale_5_9</th>\n",
       "      <th>PopFemale_5_9</th>\n",
       "      <th>PopTotal_5_9</th>\n",
       "      <th>...</th>\n",
       "      <th>PopMale_95_99</th>\n",
       "      <th>PopFemale_95_99</th>\n",
       "      <th>PopTotal_95_99</th>\n",
       "      <th>PopMale_100Plus</th>\n",
       "      <th>PopFemale_100Plus</th>\n",
       "      <th>PopTotal_100Plus</th>\n",
       "      <th>PopMale</th>\n",
       "      <th>PopFemale</th>\n",
       "      <th>PopTotal</th>\n",
       "      <th>YearDataCompleted</th>\n",
       "    </tr>\n",
       "  </thead>\n",
       "  <tbody>\n",
       "    <tr>\n",
       "      <th>0</th>\n",
       "      <td>1</td>\n",
       "      <td>4</td>\n",
       "      <td>Afghanistan</td>\n",
       "      <td>1950</td>\n",
       "      <td>630.044</td>\n",
       "      <td>661.578</td>\n",
       "      <td>1291.622</td>\n",
       "      <td>516.206</td>\n",
       "      <td>487.335</td>\n",
       "      <td>1003.541</td>\n",
       "      <td>...</td>\n",
       "      <td>0.004</td>\n",
       "      <td>0.003</td>\n",
       "      <td>0.007</td>\n",
       "      <td>0.0</td>\n",
       "      <td>0.0</td>\n",
       "      <td>0.0</td>\n",
       "      <td>4099.243</td>\n",
       "      <td>3652.874</td>\n",
       "      <td>7752.117</td>\n",
       "      <td>1</td>\n",
       "    </tr>\n",
       "    <tr>\n",
       "      <th>1</th>\n",
       "      <td>2</td>\n",
       "      <td>4</td>\n",
       "      <td>Afghanistan</td>\n",
       "      <td>1951</td>\n",
       "      <td>641.199</td>\n",
       "      <td>673.293</td>\n",
       "      <td>1314.492</td>\n",
       "      <td>525.302</td>\n",
       "      <td>502.402</td>\n",
       "      <td>1027.704</td>\n",
       "      <td>...</td>\n",
       "      <td>0.007</td>\n",
       "      <td>0.005</td>\n",
       "      <td>0.012</td>\n",
       "      <td>0.0</td>\n",
       "      <td>0.0</td>\n",
       "      <td>0.0</td>\n",
       "      <td>4134.756</td>\n",
       "      <td>3705.395</td>\n",
       "      <td>7840.151</td>\n",
       "      <td>1</td>\n",
       "    </tr>\n",
       "    <tr>\n",
       "      <th>2</th>\n",
       "      <td>3</td>\n",
       "      <td>4</td>\n",
       "      <td>Afghanistan</td>\n",
       "      <td>1952</td>\n",
       "      <td>650.825</td>\n",
       "      <td>669.274</td>\n",
       "      <td>1320.099</td>\n",
       "      <td>533.097</td>\n",
       "      <td>521.672</td>\n",
       "      <td>1054.769</td>\n",
       "      <td>...</td>\n",
       "      <td>0.012</td>\n",
       "      <td>0.009</td>\n",
       "      <td>0.021</td>\n",
       "      <td>0.0</td>\n",
       "      <td>0.0</td>\n",
       "      <td>0.0</td>\n",
       "      <td>4174.450</td>\n",
       "      <td>3761.546</td>\n",
       "      <td>7935.996</td>\n",
       "      <td>1</td>\n",
       "    </tr>\n",
       "    <tr>\n",
       "      <th>3</th>\n",
       "      <td>4</td>\n",
       "      <td>4</td>\n",
       "      <td>Afghanistan</td>\n",
       "      <td>1953</td>\n",
       "      <td>659.896</td>\n",
       "      <td>663.606</td>\n",
       "      <td>1323.502</td>\n",
       "      <td>538.351</td>\n",
       "      <td>541.216</td>\n",
       "      <td>1079.567</td>\n",
       "      <td>...</td>\n",
       "      <td>0.015</td>\n",
       "      <td>0.013</td>\n",
       "      <td>0.028</td>\n",
       "      <td>0.0</td>\n",
       "      <td>0.0</td>\n",
       "      <td>0.0</td>\n",
       "      <td>4218.336</td>\n",
       "      <td>3821.348</td>\n",
       "      <td>8039.684</td>\n",
       "      <td>1</td>\n",
       "    </tr>\n",
       "    <tr>\n",
       "      <th>4</th>\n",
       "      <td>5</td>\n",
       "      <td>4</td>\n",
       "      <td>Afghanistan</td>\n",
       "      <td>1954</td>\n",
       "      <td>670.694</td>\n",
       "      <td>663.295</td>\n",
       "      <td>1333.989</td>\n",
       "      <td>540.820</td>\n",
       "      <td>557.196</td>\n",
       "      <td>1098.016</td>\n",
       "      <td>...</td>\n",
       "      <td>0.014</td>\n",
       "      <td>0.011</td>\n",
       "      <td>0.025</td>\n",
       "      <td>0.0</td>\n",
       "      <td>0.0</td>\n",
       "      <td>0.0</td>\n",
       "      <td>4266.484</td>\n",
       "      <td>3884.832</td>\n",
       "      <td>8151.316</td>\n",
       "      <td>1</td>\n",
       "    </tr>\n",
       "  </tbody>\n",
       "</table>\n",
       "<p>5 rows × 71 columns</p>\n",
       "</div>"
      ],
      "text/plain": [
       "   Id  LocID     Location  Time  PopMale_0_4  PopFemale_0_4  PopTotal_0_4  \\\n",
       "0   1      4  Afghanistan  1950      630.044        661.578      1291.622   \n",
       "1   2      4  Afghanistan  1951      641.199        673.293      1314.492   \n",
       "2   3      4  Afghanistan  1952      650.825        669.274      1320.099   \n",
       "3   4      4  Afghanistan  1953      659.896        663.606      1323.502   \n",
       "4   5      4  Afghanistan  1954      670.694        663.295      1333.989   \n",
       "\n",
       "   PopMale_5_9  PopFemale_5_9  PopTotal_5_9  ...  PopMale_95_99  \\\n",
       "0      516.206        487.335      1003.541  ...          0.004   \n",
       "1      525.302        502.402      1027.704  ...          0.007   \n",
       "2      533.097        521.672      1054.769  ...          0.012   \n",
       "3      538.351        541.216      1079.567  ...          0.015   \n",
       "4      540.820        557.196      1098.016  ...          0.014   \n",
       "\n",
       "   PopFemale_95_99  PopTotal_95_99  PopMale_100Plus  PopFemale_100Plus  \\\n",
       "0            0.003           0.007              0.0                0.0   \n",
       "1            0.005           0.012              0.0                0.0   \n",
       "2            0.009           0.021              0.0                0.0   \n",
       "3            0.013           0.028              0.0                0.0   \n",
       "4            0.011           0.025              0.0                0.0   \n",
       "\n",
       "   PopTotal_100Plus   PopMale  PopFemale  PopTotal  YearDataCompleted  \n",
       "0               0.0  4099.243   3652.874  7752.117                  1  \n",
       "1               0.0  4134.756   3705.395  7840.151                  1  \n",
       "2               0.0  4174.450   3761.546  7935.996                  1  \n",
       "3               0.0  4218.336   3821.348  8039.684                  1  \n",
       "4               0.0  4266.484   3884.832  8151.316                  1  \n",
       "\n",
       "[5 rows x 71 columns]"
      ]
     },
     "execution_count": 8,
     "metadata": {},
     "output_type": "execute_result"
    }
   ],
   "source": [
    "# look at data\n",
    "populations.head()"
   ]
  },
  {
   "cell_type": "code",
   "execution_count": 9,
   "metadata": {},
   "outputs": [],
   "source": [
    "# read geojson file as a geopandas dataframe\n",
    "df = gpd.read_file(\"Data/countries.geojson\")"
   ]
  },
  {
   "cell_type": "code",
   "execution_count": 20,
   "metadata": {},
   "outputs": [
    {
     "data": {
      "text/plain": [
       "0             Aruba\n",
       "1       Afghanistan\n",
       "2            Angola\n",
       "3          Anguilla\n",
       "4           Albania\n",
       "           ...     \n",
       "250           Samoa\n",
       "251           Yemen\n",
       "252    South Africa\n",
       "253          Zambia\n",
       "254        Zimbabwe\n",
       "Name: ADMIN, Length: 255, dtype: object"
      ]
     },
     "execution_count": 20,
     "metadata": {},
     "output_type": "execute_result"
    }
   ],
   "source": [
    "# check common countries\n",
    "geoCountries = df[\"ADMIN\"]\n",
    "geoCountries"
   ]
  },
  {
   "cell_type": "code",
   "execution_count": 11,
   "metadata": {},
   "outputs": [],
   "source": [
    "# merge on countries that appear in geojson file and csv files\n",
    "merged_pop = populations.merge(df[\"ADMIN\"],how = \"inner\",left_on =\"Location\",right_on = \"ADMIN\")"
   ]
  },
  {
   "cell_type": "code",
   "execution_count": 12,
   "metadata": {},
   "outputs": [
    {
     "data": {
      "text/plain": [
       "(169,)"
      ]
     },
     "execution_count": 12,
     "metadata": {},
     "output_type": "execute_result"
    }
   ],
   "source": [
    "# see how many countries are shared\n",
    "merged_pop[\"Location\"].unique().shape"
   ]
  },
  {
   "cell_type": "code",
   "execution_count": 13,
   "metadata": {},
   "outputs": [],
   "source": [
    "# drop unwanted columns\n",
    "clean_pop = merged_pop.drop([\"YearDataCompleted\",\"ADMIN\"],axis= 1)"
   ]
  },
  {
   "cell_type": "code",
   "execution_count": 14,
   "metadata": {},
   "outputs": [],
   "source": [
    "# write to csv\n",
    "clean_pop.to_csv(\"Data/clean_populations.csv\")"
   ]
  },
  {
   "cell_type": "code",
   "execution_count": 15,
   "metadata": {},
   "outputs": [],
   "source": [
    "# wrtie to a json file\n",
    "clean_pop.to_json(\"Data/clean_populations.json\",orient = \"records\")"
   ]
  },
  {
   "cell_type": "code",
   "execution_count": 18,
   "metadata": {},
   "outputs": [
    {
     "data": {
      "text/plain": [
       "Afghanistan         151\n",
       "Papua New Guinea    151\n",
       "New Zealand         151\n",
       "Nicaragua           151\n",
       "Niger               151\n",
       "                   ... \n",
       "Ghana               151\n",
       "Greece              151\n",
       "Grenada             151\n",
       "Guam                151\n",
       "Zimbabwe            151\n",
       "Name: Location, Length: 169, dtype: int64"
      ]
     },
     "execution_count": 18,
     "metadata": {},
     "output_type": "execute_result"
    }
   ],
   "source": [
    "clean_pop[\"Location\"].value_counts()"
   ]
  },
  {
   "cell_type": "code",
   "execution_count": 16,
   "metadata": {},
   "outputs": [],
   "source": [
    "# write to sql\n",
    "# clean_pop.to_sql(\"Data/clean_populations.sql\")"
   ]
  }
 ],
 "metadata": {
  "interpreter": {
   "hash": "aee8b7b246df8f9039afb4144a1f6fd8d2ca17a180786b69acc140d282b71a49"
  },
  "kernelspec": {
   "display_name": "Python 3.9.5 64-bit",
   "language": "python",
   "name": "python3"
  },
  "language_info": {
   "codemirror_mode": {
    "name": "ipython",
    "version": 3
   },
   "file_extension": ".py",
   "mimetype": "text/x-python",
   "name": "python",
   "nbconvert_exporter": "python",
   "pygments_lexer": "ipython3",
   "version": "3.9.5"
  },
  "orig_nbformat": 4
 },
 "nbformat": 4,
 "nbformat_minor": 2
}
